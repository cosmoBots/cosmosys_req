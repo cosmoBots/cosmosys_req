{
 "cells": [
  {
   "cell_type": "code",
   "execution_count": 1,
   "metadata": {},
   "outputs": [
    {
     "name": "stdout",
     "output_type": "stream",
     "text": [
      "Proyectos:\n",
      "\t reqtest  \t|  Requirements test\n"
     ]
    }
   ],
   "source": [
    "from cfg.configfile_req import *\n",
    "from lib.csysrq_support import *\n",
    "from redminelib import Redmine\n",
    "\n",
    "redmine = Redmine(req_server_url,key=req_key_txt)\n",
    "projects = redmine.project.all()\n",
    "\n",
    "print(\"Proyectos:\")\n",
    "for p in projects:\n",
    "    print (\"\\t\",p.identifier,\" \\t| \",p.name)\n",
    "    "
   ]
  },
  {
   "cell_type": "code",
   "execution_count": 2,
   "metadata": {},
   "outputs": [
    {
     "name": "stdout",
     "output_type": "stream",
     "text": [
      "Obtenemos proyecto:  reqtest  |  Requirements test\n"
     ]
    }
   ],
   "source": [
    "my_project = redmine.project.get(req_project_id_str)\n",
    "print (\"Obtenemos proyecto: \",my_project.identifier,\" | \",my_project.name)"
   ]
  },
  {
   "cell_type": "code",
   "execution_count": 3,
   "metadata": {},
   "outputs": [],
   "source": [
    "tmp = redmine.issue.filter(project_id=req_project_id_str, tracker_id=req_rq_tracker_id)\n",
    "my_project_issues = sorted(tmp, key=lambda k: k.subject)\n",
    "tmp = redmine.issue.filter(project_id=req_project_id_str, tracker_id=req_doc_tracker_id)\n",
    "my_doc_issues = sorted(tmp, key=lambda k: k.subject)"
   ]
  },
  {
   "cell_type": "markdown",
   "metadata": {},
   "source": [
    "Conectaremos con nuestra instancia de PYOO\n",
    "https://github.com/seznam/pyoo"
   ]
  },
  {
   "cell_type": "code",
   "execution_count": 4,
   "metadata": {
    "scrolled": true
   },
   "outputs": [],
   "source": [
    "import pyoo\n",
    "desktop = pyoo.Desktop('localhost', 2002)"
   ]
  },
  {
   "cell_type": "markdown",
   "metadata": {},
   "source": [
    "Copiamos el template del fichero de exportación al nombre de exportación"
   ]
  },
  {
   "cell_type": "code",
   "execution_count": 5,
   "metadata": {},
   "outputs": [
    {
     "data": {
      "text/plain": [
       "'./downloading/RqDownload.ods'"
      ]
     },
     "execution_count": 5,
     "metadata": {},
     "output_type": "execute_result"
    }
   ],
   "source": [
    "from shutil import copyfile\n",
    "\n",
    "copyfile('./downloading/templates/RqDownload.ods', './downloading/RqDownload.ods')"
   ]
  },
  {
   "cell_type": "markdown",
   "metadata": {},
   "source": [
    "Hemos de cargar los RqTarget"
   ]
  },
  {
   "cell_type": "code",
   "execution_count": 6,
   "metadata": {},
   "outputs": [],
   "source": [
    "# Conectamos con la hoja\n",
    "doc = desktop.open_spreadsheet('./downloading/RqDownload.ods')\n",
    "\n",
    "# La lista de RqTarget empieza en B7, hacia abajo\n",
    "rq_target_column = 2\n",
    "rq_target_row = 8\n",
    "\n"
   ]
  },
  {
   "cell_type": "code",
   "execution_count": 9,
   "metadata": {},
   "outputs": [
    {
     "name": "stdout",
     "output_type": "stream",
     "text": [
      "['__class__', '__delattr__', '__dict__', '__dir__', '__doc__', '__eq__', '__format__', '__ge__', '__getattribute__', '__gt__', '__hash__', '__init__', '__init_subclass__', '__le__', '__lt__', '__module__', '__ne__', '__new__', '__reduce__', '__reduce_ex__', '__repr__', '__setattr__', '__sizeof__', '__slots__', '__str__', '__subclasshook__', '__weakref__', '_null_date', '_sheets', '_target', 'close', 'date_from_number', 'date_to_number', 'get_locale', 'save', 'sheets', 'time_from_number', 'time_to_number']\n",
      "3\n"
     ]
    },
    {
     "ename": "com.sun.star.uno.RuntimeException",
     "evalue": "Binary URP bridge disposed during call",
     "output_type": "error",
     "traceback": [
      "\u001b[0;31m---------------------------------------------------------------------------\u001b[0m",
      "\u001b[0;31mcom.sun.star.uno.RuntimeException\u001b[0m         Traceback (most recent call last)",
      "\u001b[0;32m<ipython-input-9-93c916776668>\u001b[0m in \u001b[0;36m<module>\u001b[0;34m\u001b[0m\n\u001b[1;32m      1\u001b[0m \u001b[0mprint\u001b[0m\u001b[0;34m(\u001b[0m\u001b[0mdir\u001b[0m\u001b[0;34m(\u001b[0m\u001b[0mdoc\u001b[0m\u001b[0;34m)\u001b[0m\u001b[0;34m)\u001b[0m\u001b[0;34m\u001b[0m\u001b[0;34m\u001b[0m\u001b[0m\n\u001b[1;32m      2\u001b[0m \u001b[0mprint\u001b[0m\u001b[0;34m(\u001b[0m\u001b[0mlen\u001b[0m\u001b[0;34m(\u001b[0m\u001b[0mdoc\u001b[0m\u001b[0;34m.\u001b[0m\u001b[0msheets\u001b[0m\u001b[0;34m)\u001b[0m\u001b[0;34m)\u001b[0m\u001b[0;34m\u001b[0m\u001b[0;34m\u001b[0m\u001b[0m\n\u001b[0;32m----> 3\u001b[0;31m \u001b[0mdoc_dict\u001b[0m \u001b[0;34m=\u001b[0m \u001b[0mdoc\u001b[0m\u001b[0;34m.\u001b[0m\u001b[0msheets\u001b[0m\u001b[0;34m[\u001b[0m\u001b[0;34m'Dict'\u001b[0m\u001b[0;34m]\u001b[0m\u001b[0;34m\u001b[0m\u001b[0;34m\u001b[0m\u001b[0m\n\u001b[0m\u001b[1;32m      4\u001b[0m \u001b[0mprint\u001b[0m\u001b[0;34m(\u001b[0m\u001b[0mdoc_dict\u001b[0m\u001b[0;34m)\u001b[0m\u001b[0;34m\u001b[0m\u001b[0;34m\u001b[0m\u001b[0m\n\u001b[1;32m      5\u001b[0m \u001b[0;31m#print(doc_dict[rq_target_row,rq_target_column].address)\u001b[0m\u001b[0;34m\u001b[0m\u001b[0;34m\u001b[0m\u001b[0;34m\u001b[0m\u001b[0m\n",
      "\u001b[0;32m~/anaconda3/lib/python3.7/site-packages/pyoo.py\u001b[0m in \u001b[0;36m__getitem__\u001b[0;34m(self, key)\u001b[0m\n\u001b[1;32m    378\u001b[0m             \u001b[0;32mreturn\u001b[0m \u001b[0mself\u001b[0m\u001b[0;34m.\u001b[0m\u001b[0m_factory\u001b[0m\u001b[0;34m(\u001b[0m\u001b[0mtarget\u001b[0m\u001b[0;34m)\u001b[0m\u001b[0;34m\u001b[0m\u001b[0;34m\u001b[0m\u001b[0m\n\u001b[1;32m    379\u001b[0m         \u001b[0;32mif\u001b[0m \u001b[0misinstance\u001b[0m\u001b[0;34m(\u001b[0m\u001b[0mkey\u001b[0m\u001b[0;34m,\u001b[0m \u001b[0mstring_types\u001b[0m\u001b[0;34m)\u001b[0m\u001b[0;34m:\u001b[0m\u001b[0;34m\u001b[0m\u001b[0;34m\u001b[0m\u001b[0m\n\u001b[0;32m--> 380\u001b[0;31m             \u001b[0mtarget\u001b[0m \u001b[0;34m=\u001b[0m \u001b[0mself\u001b[0m\u001b[0;34m.\u001b[0m\u001b[0m_get_by_name\u001b[0m\u001b[0;34m(\u001b[0m\u001b[0mkey\u001b[0m\u001b[0;34m)\u001b[0m\u001b[0;34m\u001b[0m\u001b[0;34m\u001b[0m\u001b[0m\n\u001b[0m\u001b[1;32m    381\u001b[0m             \u001b[0;32mreturn\u001b[0m \u001b[0mself\u001b[0m\u001b[0;34m.\u001b[0m\u001b[0m_factory\u001b[0m\u001b[0;34m(\u001b[0m\u001b[0mtarget\u001b[0m\u001b[0;34m)\u001b[0m\u001b[0;34m\u001b[0m\u001b[0;34m\u001b[0m\u001b[0m\n\u001b[1;32m    382\u001b[0m         raise TypeError('%s must be accessed either by index or name.'\n",
      "\u001b[0;32m~/anaconda3/lib/python3.7/site-packages/pyoo.py\u001b[0m in \u001b[0;36m_get_by_name\u001b[0;34m(self, name)\u001b[0m\n\u001b[1;32m    398\u001b[0m         \u001b[0;32mtry\u001b[0m\u001b[0;34m:\u001b[0m\u001b[0;34m\u001b[0m\u001b[0;34m\u001b[0m\u001b[0m\n\u001b[1;32m    399\u001b[0m             \u001b[0;31m# http://www.openoffice.org/api/docs/common/ref/com/sun/star/container/XNameAccess.html#getByName\u001b[0m\u001b[0;34m\u001b[0m\u001b[0;34m\u001b[0m\u001b[0;34m\u001b[0m\u001b[0m\n\u001b[0;32m--> 400\u001b[0;31m             \u001b[0;32mreturn\u001b[0m \u001b[0mself\u001b[0m\u001b[0;34m.\u001b[0m\u001b[0m_target\u001b[0m\u001b[0;34m.\u001b[0m\u001b[0mgetByName\u001b[0m\u001b[0;34m(\u001b[0m\u001b[0mname\u001b[0m\u001b[0;34m)\u001b[0m\u001b[0;34m\u001b[0m\u001b[0;34m\u001b[0m\u001b[0m\n\u001b[0m\u001b[1;32m    401\u001b[0m         \u001b[0;32mexcept\u001b[0m \u001b[0m_NoSuchElementException\u001b[0m\u001b[0;34m:\u001b[0m\u001b[0;34m\u001b[0m\u001b[0;34m\u001b[0m\u001b[0m\n\u001b[1;32m    402\u001b[0m             \u001b[0;32mraise\u001b[0m \u001b[0mKeyError\u001b[0m\u001b[0;34m(\u001b[0m\u001b[0mname\u001b[0m\u001b[0;34m)\u001b[0m\u001b[0;34m\u001b[0m\u001b[0;34m\u001b[0m\u001b[0m\n",
      "\u001b[0;31mcom.sun.star.uno.RuntimeException\u001b[0m: Binary URP bridge disposed during call"
     ]
    }
   ],
   "source": [
    "print(dir(doc))\n",
    "print(len(doc.sheets))\n",
    "doc_dict = doc.sheets['Dict']\n",
    "print(doc_dict)\n",
    "#print(doc_dict[rq_target_row,rq_target_column].address)\n",
    "#doc_dict[rq_target_row,rq_target_column].value = 5"
   ]
  },
  {
   "cell_type": "markdown",
   "metadata": {},
   "source": [
    "Ahora generaremos los documentos a partir de aquellos requisitos que tengan algún hijo"
   ]
  },
  {
   "cell_type": "code",
   "execution_count": 5,
   "metadata": {},
   "outputs": [
    {
     "name": "stdout",
     "output_type": "stream",
     "text": [
      "**********  SR\n",
      "prefix:  SR-\n",
      "reqname:  SR\n",
      "target: v0.1\n",
      "['id', 'name']\n",
      "**********  SRC\n",
      "parent:  SR\n",
      "prefix:  SRC-\n",
      "reqname:  SRC\n"
     ]
    }
   ],
   "source": [
    "from doorstop.core.item import Item\n",
    "\n",
    "tree = doorstop.build()\n",
    "\n",
    "for my_issue in my_doc_issues:\n",
    "    print(\"********** \",my_issue)\n",
    "    docpath = \"./doorstop/\"+my_issue.subject\n",
    "    prefix = my_issue.subject+\"-\"\n",
    "    current_parent = getattr(my_issue, 'parent', None)\n",
    "    if current_parent is None:\n",
    "        doc = tree.create_document(docpath,prefix)\n",
    "        parent_issue = None\n",
    "    else:\n",
    "        parent_issue = redmine.issue.get(current_parent.id)\n",
    "        print(\"parent: \",parent_issue.subject)\n",
    "        doc = tree.create_document(docpath,prefix,parent=parent_issue.subject+\"-\")\n",
    "       \n",
    "    print(\"prefix: \",prefix)\n",
    "    reqname = my_issue.subject\n",
    "    print(\"reqname: \",reqname)\n",
    "    current_version = getattr(my_issue, 'fixed_version', None)\n",
    "    if (current_version is not None):\n",
    "        print(\"target:\",current_version)\n",
    "        print(dir(current_version))\n",
    "        version_name = current_version.name\n",
    "    else:\n",
    "        version_name = ''\n",
    "\n",
    "    doc.set('BDID', str(my_issue.id))\n",
    "    doc.set('BDURL', req_server_url+\"/issues/\"+str(my_issue.id))\n",
    "    doc.set('RqSubject', my_issue.subject)\n",
    "    doc.set('RqTitle', my_issue.custom_fields.get(req_title_cf_id).value)\n",
    "    if (parent_issue is not None):\n",
    "        doc.set('RqParent', parent_issue.subject)\n",
    "    else:\n",
    "        doc.set('RqParent', '')\n",
    "    doc.set('RqRationale', my_issue.custom_fields.get(req_rationale_cf_id).value)\n",
    "    doc.set('RqLevel', my_issue.custom_fields.get(req_level_cf_id).value)\n",
    "    doc.set('RqType', my_issue.custom_fields.get(req_type_cf_id).value)\n",
    "    doc.set('RqSources', my_issue.custom_fields.get(req_sources_cf_id).value)\n",
    "    doc.set('RqChapter', my_issue.custom_fields.get(req_chapter_cf_id).value)\n",
    "    doc.set('RqTarget', version_name)\n",
    "    doc.set('text', my_issue.description)\n",
    "    \n",
    "    # Ahora grabamos un requisito cero:\n",
    "    newitem = Item.new(tree, doc,\n",
    "        doc.path, doc.root, my_issue.subject+\"-0000\",\n",
    "        auto=False)\n",
    "    newitem.set('BDID', str(my_issue.id))\n",
    "    newitem.set('BDURL', req_server_url+\"/issues/\"+str(my_issue.id))\n",
    "    newitem.set('RqSubject', my_issue.subject)\n",
    "    newitem.set('RqTitle', my_issue.custom_fields.get(req_title_cf_id).value)\n",
    "    if (parent_issue is not None):\n",
    "        newitem.set('RqParent', parent_issue.subject)\n",
    "        \n",
    "    else:\n",
    "        newitem.set('RqParent', '')\n",
    "        \n",
    "    newitem.set('RqRationale', my_issue.custom_fields.get(req_rationale_cf_id).value)\n",
    "    newitem.set('RqLevel', my_issue.custom_fields.get(req_level_cf_id).value)\n",
    "    newitem.set('RqType', my_issue.custom_fields.get(req_type_cf_id).value)\n",
    "    newitem.set('RqSources', my_issue.custom_fields.get(req_sources_cf_id).value)\n",
    "    newitem.set('RqChapter', my_issue.custom_fields.get(req_chapter_cf_id).value)\n",
    "    newitem.set('RqTarget', version_name)\n",
    "    newitem.set('text', my_issue.description)\n",
    "    newitem.save()"
   ]
  },
  {
   "cell_type": "markdown",
   "metadata": {},
   "source": [
    "Ahora crearemos los requisitos \"hijos\" dentro de cada documento"
   ]
  },
  {
   "cell_type": "code",
   "execution_count": 6,
   "metadata": {},
   "outputs": [
    {
     "name": "stdout",
     "output_type": "stream",
     "text": [
      "reqname:  SR-0001\n",
      "parent:  SR\n",
      "['attachments', 'author', 'changesets', 'children', 'created_on', 'custom_fields', 'description', 'done_ratio', 'id', 'journals', 'parent', 'priority', 'project', 'relations', 'status', 'subject', 'time_entries', 'tracker', 'updated_on', 'watchers']\n",
      "prefix:  SR-\n",
      "----> SR-0001\n",
      "reqname:  SR-0002\n",
      "parent:  SR-0001\n",
      "Llamo al padre\n",
      "['attachments', 'author', 'changesets', 'children', 'created_on', 'custom_fields', 'description', 'done_ratio', 'fixed_version', 'id', 'journals', 'parent', 'priority', 'project', 'relations', 'status', 'subject', 'time_entries', 'tracker', 'updated_on', 'watchers']\n",
      "target: v0.1\n",
      "['id', 'name']\n",
      "prefix:  SR-\n",
      "----> SR-0002\n",
      "reqname:  SR-0003\n",
      "parent:  SR\n",
      "['attachments', 'author', 'changesets', 'children', 'created_on', 'custom_fields', 'description', 'done_ratio', 'id', 'journals', 'parent', 'priority', 'project', 'relations', 'status', 'subject', 'time_entries', 'tracker', 'updated_on', 'watchers']\n",
      "prefix:  SR-\n",
      "----> SR-0003\n",
      "reqname:  SR-0004\n",
      "parent:  SR-0003\n",
      "Llamo al padre\n",
      "['attachments', 'author', 'changesets', 'children', 'created_on', 'custom_fields', 'description', 'done_ratio', 'id', 'journals', 'parent', 'priority', 'project', 'relations', 'status', 'subject', 'time_entries', 'tracker', 'updated_on', 'watchers']\n",
      "prefix:  SR-\n",
      "----> SR-0004\n",
      "reqname:  SR-0005\n",
      "parent:  SR-0004\n",
      "Llamo al padre\n",
      "Llamo al padre\n",
      "['attachments', 'author', 'changesets', 'children', 'created_on', 'custom_fields', 'description', 'done_ratio', 'id', 'journals', 'parent', 'priority', 'project', 'relations', 'status', 'subject', 'time_entries', 'tracker', 'updated_on', 'watchers']\n",
      "prefix:  SR-\n",
      "----> SR-0005\n",
      "reqname:  SR-0006\n",
      "parent:  SR-0004\n",
      "Llamo al padre\n",
      "Llamo al padre\n",
      "['attachments', 'author', 'changesets', 'children', 'created_on', 'custom_fields', 'description', 'done_ratio', 'id', 'journals', 'parent', 'priority', 'project', 'relations', 'status', 'subject', 'time_entries', 'tracker', 'updated_on', 'watchers']\n",
      "prefix:  SR-\n",
      "----> SR-0006\n",
      "reqname:  SR-0007\n",
      "parent:  SR-0004\n",
      "Llamo al padre\n",
      "Llamo al padre\n",
      "['attachments', 'author', 'changesets', 'children', 'created_on', 'custom_fields', 'description', 'done_ratio', 'id', 'journals', 'parent', 'priority', 'project', 'relations', 'status', 'subject', 'time_entries', 'tracker', 'updated_on', 'watchers']\n",
      "prefix:  SR-\n",
      "----> SR-0007\n",
      "reqname:  SR-0008\n",
      "parent:  SR-0004\n",
      "Llamo al padre\n",
      "Llamo al padre\n",
      "['attachments', 'author', 'changesets', 'children', 'created_on', 'custom_fields', 'description', 'done_ratio', 'id', 'journals', 'parent', 'priority', 'project', 'relations', 'status', 'subject', 'time_entries', 'tracker', 'updated_on', 'watchers']\n",
      "prefix:  SR-\n",
      "----> SR-0008\n",
      "reqname:  SR-0009\n",
      "parent:  SR-0003\n",
      "Llamo al padre\n",
      "['attachments', 'author', 'changesets', 'children', 'created_on', 'custom_fields', 'description', 'done_ratio', 'id', 'journals', 'parent', 'priority', 'project', 'relations', 'status', 'subject', 'time_entries', 'tracker', 'updated_on', 'watchers']\n",
      "prefix:  SR-\n",
      "----> SR-0009\n",
      "reqname:  SR-0010\n",
      "parent:  SR-0009\n",
      "Llamo al padre\n",
      "Llamo al padre\n",
      "['attachments', 'author', 'changesets', 'children', 'created_on', 'custom_fields', 'description', 'done_ratio', 'id', 'journals', 'parent', 'priority', 'project', 'relations', 'status', 'subject', 'time_entries', 'tracker', 'updated_on', 'watchers']\n",
      "prefix:  SR-\n",
      "----> SR-0010\n",
      "reqname:  SRC-0001\n",
      "parent:  SRC\n",
      "['attachments', 'author', 'changesets', 'children', 'created_on', 'custom_fields', 'description', 'done_ratio', 'id', 'journals', 'parent', 'priority', 'project', 'relations', 'status', 'subject', 'time_entries', 'tracker', 'updated_on', 'watchers']\n",
      "prefix:  SRC-\n",
      "----> SRC-0001\n",
      "reqname:  SRC-0002\n",
      "parent:  SRC-0001\n",
      "Llamo al padre\n",
      "['attachments', 'author', 'changesets', 'children', 'created_on', 'custom_fields', 'description', 'done_ratio', 'id', 'journals', 'parent', 'priority', 'project', 'relations', 'status', 'subject', 'time_entries', 'tracker', 'updated_on', 'watchers']\n",
      "prefix:  SRC-\n",
      "----> SRC-0002\n",
      "reqname:  SRC-0003\n",
      "parent:  SRC\n",
      "['attachments', 'author', 'changesets', 'children', 'created_on', 'custom_fields', 'description', 'done_ratio', 'id', 'journals', 'parent', 'priority', 'project', 'relations', 'status', 'subject', 'time_entries', 'tracker', 'updated_on', 'watchers']\n",
      "prefix:  SRC-\n",
      "----> SRC-0003\n",
      "reqname:  SRC-0004\n",
      "parent:  SRC-0003\n",
      "Llamo al padre\n",
      "['attachments', 'author', 'changesets', 'children', 'created_on', 'custom_fields', 'description', 'done_ratio', 'id', 'journals', 'parent', 'priority', 'project', 'relations', 'status', 'subject', 'time_entries', 'tracker', 'updated_on', 'watchers']\n",
      "prefix:  SRC-\n",
      "----> SRC-0004\n",
      "reqname:  SRC-0005\n",
      "parent:  SRC-0004\n",
      "Llamo al padre\n",
      "Llamo al padre\n",
      "['attachments', 'author', 'changesets', 'children', 'created_on', 'custom_fields', 'description', 'done_ratio', 'id', 'journals', 'parent', 'priority', 'project', 'relations', 'status', 'subject', 'time_entries', 'tracker', 'updated_on', 'watchers']\n",
      "prefix:  SRC-\n",
      "----> SRC-0005\n",
      "reqname:  SRC-0006\n",
      "parent:  SRC-0004\n",
      "Llamo al padre\n",
      "Llamo al padre\n",
      "['attachments', 'author', 'changesets', 'children', 'created_on', 'custom_fields', 'description', 'done_ratio', 'id', 'journals', 'parent', 'priority', 'project', 'relations', 'status', 'subject', 'time_entries', 'tracker', 'updated_on', 'watchers']\n",
      "prefix:  SRC-\n",
      "----> SRC-0006\n",
      "reqname:  SRC-0007\n",
      "parent:  SRC-0004\n",
      "Llamo al padre\n",
      "Llamo al padre\n",
      "['attachments', 'author', 'changesets', 'children', 'created_on', 'custom_fields', 'description', 'done_ratio', 'id', 'journals', 'parent', 'priority', 'project', 'relations', 'status', 'subject', 'time_entries', 'tracker', 'updated_on', 'watchers']\n",
      "prefix:  SRC-\n",
      "----> SRC-0007\n",
      "reqname:  SRC-0008\n",
      "parent:  SRC-0004\n",
      "Llamo al padre\n",
      "Llamo al padre\n",
      "['attachments', 'author', 'changesets', 'children', 'created_on', 'custom_fields', 'description', 'done_ratio', 'id', 'journals', 'parent', 'priority', 'project', 'relations', 'status', 'subject', 'time_entries', 'tracker', 'updated_on', 'watchers']\n",
      "prefix:  SRC-\n",
      "----> SRC-0008\n",
      "reqname:  SRC-0009\n",
      "parent:  SRC-0003\n",
      "Llamo al padre\n",
      "['attachments', 'author', 'changesets', 'children', 'created_on', 'custom_fields', 'description', 'done_ratio', 'id', 'journals', 'parent', 'priority', 'project', 'relations', 'status', 'subject', 'time_entries', 'tracker', 'updated_on', 'watchers']\n",
      "prefix:  SRC-\n",
      "----> SRC-0009\n",
      "reqname:  SRC-0010\n",
      "parent:  SRC-0009\n",
      "Llamo al padre\n",
      "Llamo al padre\n",
      "['attachments', 'author', 'changesets', 'children', 'created_on', 'custom_fields', 'description', 'done_ratio', 'id', 'journals', 'parent', 'priority', 'project', 'relations', 'status', 'subject', 'time_entries', 'tracker', 'updated_on', 'watchers']\n",
      "prefix:  SRC-\n",
      "----> SRC-0010\n"
     ]
    }
   ],
   "source": [
    "def find_prefix(this_issue):\n",
    "    if this_issue.tracker.id == req_doc_tracker_id:\n",
    "        return(this_issue.subject+\"-\")\n",
    "\n",
    "    # not do found yet\n",
    "    current_parent = getattr(this_issue, 'parent', None)\n",
    "    if current_parent is None:\n",
    "        return \"\"\n",
    "    \n",
    "    else:\n",
    "        parent_issue = redmine.issue.get(current_parent.id)\n",
    "        print(\"Llamo al padre\")\n",
    "        return find_prefix(parent_issue)\n",
    "    \n",
    "\n",
    "from doorstop.core.item import Item\n",
    "\n",
    "for my_issue in my_project_issues:\n",
    "    reqname = my_issue.subject\n",
    "    print(\"reqname: \",reqname)\n",
    "    current_parent = getattr(my_issue, 'parent', None)\n",
    "    if current_parent is None:\n",
    "        prefix = \"\"\n",
    "        \n",
    "    else:    \n",
    "        parent_issue = redmine.issue.get(my_issue.parent.id)\n",
    "        print(\"parent: \",parent_issue.subject)\n",
    "        prefix = find_prefix(parent_issue)\n",
    "    \n",
    "    print(dir(my_issue))\n",
    "    current_version = getattr(my_issue, 'fixed_version', None)\n",
    "    if (current_version is not None):\n",
    "        print(\"target:\",current_version)\n",
    "        print(dir(current_version))\n",
    "        version_name = current_version.name\n",
    "    else:\n",
    "        version_name = ''\n",
    "    if (prefix is not None):\n",
    "        print(\"prefix: \",prefix)        \n",
    "        #newitem = tree.add_item(prefix)\n",
    "        #newitem.text = my_issue.description\n",
    "\n",
    "        document = tree.find_document(prefix)\n",
    "        newitem = Item.new(tree, document,\n",
    "                document.path, document.root, my_issue.subject,\n",
    "                auto=False)\n",
    "        newitem.set('BDID', str(my_issue.id))\n",
    "        newitem.set('BDURL', req_server_url+\"/issues/\"+str(my_issue.id))\n",
    "        newitem.set('RqSubject', my_issue.subject)\n",
    "        newitem.set('RqTitle', my_issue.custom_fields.get(req_title_cf_id).value)\n",
    "        if (parent_issue is not None):\n",
    "            newitem.set('RqParent', parent_issue.subject)\n",
    "        \n",
    "        else:\n",
    "            newitem.set('RqParent', '')\n",
    "\n",
    "        newitem.set('RqRationale', my_issue.custom_fields.get(req_rationale_cf_id).value)\n",
    "        newitem.set('RqLevel', my_issue.custom_fields.get(req_level_cf_id).value)\n",
    "        newitem.set('RqType', my_issue.custom_fields.get(req_type_cf_id).value)\n",
    "        newitem.set('RqSources', my_issue.custom_fields.get(req_sources_cf_id).value)\n",
    "        newitem.set('RqChapter', my_issue.custom_fields.get(req_chapter_cf_id).value)\n",
    "        newitem.set('RqTarget', version_name)\n",
    "        newitem.set('text', my_issue.description)\n",
    "        newitem.save()\n",
    "        print(\"---->\",newitem)\n"
   ]
  },
  {
   "cell_type": "code",
   "execution_count": 7,
   "metadata": {},
   "outputs": [
    {
     "name": "stdout",
     "output_type": "stream",
     "text": [
      " thisitem:  SR-0001\n",
      " thisitem:  SR-0002\n",
      " thisitem:  SR-0003\n",
      " thisitem:  SR-0004\n",
      " thisitem:  SR-0005\n",
      " thisitem:  SR-0006\n",
      " thisitem:  SR-0007\n",
      "Relacionado:  8  de  SR-0005  a  SR-0007\n",
      "Relacionado:  9  de  SR-0006  a  SR-0007\n",
      " thisitem:  SR-0008\n",
      "Relacionado:  10  de  SR-0005  a  SR-0008\n",
      " thisitem:  SR-0009\n",
      " thisitem:  SR-0010\n",
      " thisitem:  SRC-0001\n",
      " thisitem:  SRC-0002\n",
      " thisitem:  SRC-0003\n",
      " thisitem:  SRC-0004\n",
      " thisitem:  SRC-0005\n",
      "Relacionado:  11  de  SR-0004  a  SRC-0005\n",
      " thisitem:  SRC-0006\n",
      " thisitem:  SRC-0007\n",
      "Relacionado:  12  de  SRC-0005  a  SRC-0007\n",
      "Relacionado:  13  de  SRC-0006  a  SRC-0007\n",
      " thisitem:  SRC-0008\n",
      "Relacionado:  14  de  SRC-0005  a  SRC-0008\n",
      " thisitem:  SRC-0009\n",
      " thisitem:  SRC-0010\n",
      "Acabamos\n"
     ]
    }
   ],
   "source": [
    "# Creamos los links entre requisitos del Redmine\n",
    "for i in my_project_issues:\n",
    "    thisitem = tree.find_item(i.subject)\n",
    "    if (thisitem is not None):\n",
    "        print(\" thisitem: \",thisitem)\n",
    "\n",
    "    # Busco las relaciones en las que es destinatario\n",
    "    my_issue_relations = redmine.issue_relation.filter(issue_id=i.id)\n",
    "    my_filtered_issue_relations = list(filter(lambda x: x.issue_id != i.id, my_issue_relations))\n",
    "\n",
    "    # Recorro las relaciones creando los links\n",
    "    for rel in my_filtered_issue_relations:\n",
    "        # Obtenemos la incidencia y el item doorstop del objeto que es origen de la relación de Redmine,\n",
    "        # que significa que es destinatario de la relación de doorstop, ya que es el elemento que está\n",
    "        # condicionando al actual (el actual depende de él)\n",
    "        relissue = redmine.issue.get(rel.issue_id)\n",
    "        print(\"Relacionado: \",rel,\" de \",relissue.subject,\" a \",i.subject)\n",
    "        relitem = tree.find_item(relissue.subject)\n",
    "        # Creamos un link donde expresamos que thisitem depende de relitem\n",
    "        thisitem.link(relitem)\n",
    "\n",
    "    \n",
    "print(\"Acabamos\")\n"
   ]
  },
  {
   "cell_type": "code",
   "execution_count": null,
   "metadata": {},
   "outputs": [],
   "source": []
  },
  {
   "cell_type": "code",
   "execution_count": null,
   "metadata": {},
   "outputs": [],
   "source": []
  }
 ],
 "metadata": {
  "kernelspec": {
   "display_name": "Python 3",
   "language": "python",
   "name": "python3"
  },
  "language_info": {
   "codemirror_mode": {
    "name": "ipython",
    "version": 3
   },
   "file_extension": ".py",
   "mimetype": "text/x-python",
   "name": "python",
   "nbconvert_exporter": "python",
   "pygments_lexer": "ipython3",
   "version": "3.7.3"
  }
 },
 "nbformat": 4,
 "nbformat_minor": 2
}
