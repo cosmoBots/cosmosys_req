{
 "cells": [
  {
   "cell_type": "code",
   "execution_count": null,
   "metadata": {},
   "outputs": [],
   "source": [
    "from cfg.configfile_req import *\n",
    "from redminelib import Redmine\n",
    "\n",
    "redmine = Redmine(req_server_url,key=req_key_txt)\n",
    "projects = redmine.project.all()\n",
    "prj_present = False\n",
    "for p in projects:\n",
    "    if (p.identifier == req_project_id_str):\n",
    "        print (\"!!!ERROR, EL PROYECTO YA EXISTE!!!\",req_project_id_str)\n",
    "        prj_present = True\n",
    "        "
   ]
  },
  {
   "cell_type": "code",
   "execution_count": null,
   "metadata": {},
   "outputs": [],
   "source": [
    "if not prj_present:  \n",
    "    print(\"Crearemos el proyecto \",req_project_id_str)\n",
    "    project = redmine.project.create(\n",
    "        name = req_project_id_str,\n",
    "        identifier = req_project_id_str,\n",
    "        description = req_project_id_str)\n",
    "#...     tracker_ids=[1, 2],\n",
    "#...     issue_custom_field_ids=[1, 2],\n",
    "#...     custom_fields=[{'id': 1, 'value': 'foo'}, {'id': 2, 'value': 'bar'}],\n",
    "#...     enabled_module_names=['calendar', 'documents', 'files', 'gantt']\n"
   ]
  },
  {
   "cell_type": "code",
   "execution_count": null,
   "metadata": {},
   "outputs": [],
   "source": [
    "from lib.csysrq_support import *\n",
    "\n",
    "from cfg.configfile_req import *\n",
    "prj_present = False\n",
    "print(\"Hago algo\")\n",
    "\n",
    "if not prj_present:\n",
    "    copy_dir(\"./prj_template\",cfg_homedir + \"/repos/\"+req_project_id_str)\n",
    "    print(\"El path para configurar el repositorio de tu proyecto en redmine es: \",cfg_homedir + \"/repos/\"+req_project_id_str)\n",
    "    print(\"El lugar para configurarlo es \",req_server_url+\"/projects/\"+req_project_id_str+\"/repositories/new\")\n",
    "    print(\"---- Valores ---\")\n",
    "    print(\"SCM = Filesystem \")\n",
    "    print(\"Identifier = rq \")\n",
    "    print(\"Root directory = \",cfg_homedir + \"/repos/\"+req_project_id_str)\n",
    "    print(\"---- Y pulsar save ----\")\n",
    "    print(\"Podrás comprobar si funciona yendo a \",req_server_url+\"/projects/\"+req_project_id_str+\"/repository/rq\")\n",
    "    print(\"Acabamos\")\n",
    "else:\n",
    "    print(\"!!!ERROR, EL PROYECTO YA EXISTE!!!\",req_project_id_str)"
   ]
  },
  {
   "cell_type": "code",
   "execution_count": null,
   "metadata": {},
   "outputs": [],
   "source": []
  }
 ],
 "metadata": {
  "kernelspec": {
   "display_name": "Python 3",
   "language": "python",
   "name": "python3"
  },
  "language_info": {
   "codemirror_mode": {
    "name": "ipython",
    "version": 3
   },
   "file_extension": ".py",
   "mimetype": "text/x-python",
   "name": "python",
   "nbconvert_exporter": "python",
   "pygments_lexer": "ipython3",
   "version": "3.7.3"
  }
 },
 "nbformat": 4,
 "nbformat_minor": 2
}
