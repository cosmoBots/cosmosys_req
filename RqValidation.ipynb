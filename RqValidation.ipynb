{
 "cells": [
  {
   "cell_type": "code",
   "execution_count": null,
   "metadata": {},
   "outputs": [],
   "source": [
    "%run ./RqConnectNList.ipynb"
   ]
  },
  {
   "cell_type": "markdown",
   "metadata": {},
   "source": [
    "Ahora recorremos el proyecto y sacamos los diagramas completos de jerarquía y dependencias, y guardamos los ficheros de esos diagramas en la carpeta doc."
   ]
  },
  {
   "cell_type": "code",
   "execution_count": null,
   "metadata": {},
   "outputs": [],
   "source": [
    "# Preparamos el fichero JSON que usaremos de puente para el resultado\n",
    "\n",
    "result_list = []\n",
    "\n",
    "def parent_child_validation(i,results):\n",
    "    # Exploro los hijos\n",
    "    for c in i.children:\n",
    "        child_issue = redmine.issue.get(c.id)\n",
    "        if (req_status_maturity[child_issue.status.name] < req_status_maturity[i.status.name]):\n",
    "            print(\"\\n\\n**************\")\n",
    "            print(i.id,\": \",i.subject,\": \",i.status,\":\",req_status_maturity[i.status.name])\n",
    "            print(\"\\t* \",child_issue.id,\": \",child_issue.subject,\": \",child_issue.status,\":\",req_status_maturity[child_issue.status.name])\n",
    "            print(\"xxxxxxxxxxxx: Error.  el requisito hijo está en estado \",child_issue.status,\" mientras su requisito padre está en estado \",i.status)\n",
    "            thiserror = {\n",
    "                'type':'hyerarchy',\n",
    "                'parent':{\n",
    "                    'id': i.id,\n",
    "                    'subject': i.subject,\n",
    "                    'status': i.status.name,\n",
    "                    'status_maturity': req_status_maturity[i.status.name],\n",
    "                },\n",
    "                'child':{\n",
    "                    'id': child_issue.id,\n",
    "                    'subject': child_issue.subject,\n",
    "                    'status': child_issue.status.name,\n",
    "                    'status_maturity': req_status_maturity[child_issue.status.name],\n",
    "                },\n",
    "            }\n",
    "            results.append(thiserror)\n",
    "\n",
    "\n",
    "\n",
    "def dependence_validation(i,results):            \n",
    "    # Exploro las relaciones\n",
    "    my_issue_relations = redmine.issue_relation.filter(issue_id=i.id)\n",
    "    my_filtered_issue_relations = list(filter(lambda x: x.issue_to_id != i.id, my_issue_relations))\n",
    "    if (len(my_issue_relations)>0):\n",
    "        for r in my_filtered_issue_relations:\n",
    "            rel_issue = redmine.issue.get(r.issue_to_id)\n",
    "            if (req_status_maturity[rel_issue.status.name] > req_status_maturity[i.status.name]):\n",
    "                print(\"\\n\\n**************\")\n",
    "                print(i.id,\": \",i.subject,\": \",i.status,\":\",req_status_maturity[i.status.name])\n",
    "                print(\"\\t-\",r.relation_type,\"-> \",rel_issue.subject,\" : \",rel_issue.status,\":\",req_status_maturity[rel_issue.status.name])\n",
    "                print(\"xxxxxxxxxxxx: Error.  el requisito dependiente está en estado \",rel_issue.status,\" mientras el requisito del que depende está en estado \",i.status)\n",
    "                thiserror = {\n",
    "                    'type':'dependency',\n",
    "                    'dependable':{\n",
    "                        'id': i.id,\n",
    "                        'subject': i.subject,\n",
    "                        'status': i.status.name,\n",
    "                        'status_maturity': req_status_maturity[i.status.name],\n",
    "                    },\n",
    "                    'dependent':{\n",
    "                        'id': rel_issue.id,\n",
    "                        'subject': rel_issue.subject,\n",
    "                        'status': rel_issue.status.name,\n",
    "                        'status_maturity': req_status_maturity[rel_issue.status.name],\n",
    "                    },\n",
    "                }\n",
    "                results.append(thiserror)\n",
    "\n",
    "for issue in my_project_issues:\n",
    "    dependence_validation(issue,result_list)\n",
    "    parent_child_validation(issue,result_list)"
   ]
  },
  {
   "cell_type": "code",
   "execution_count": null,
   "metadata": {},
   "outputs": [],
   "source": [
    "import json\n",
    "\n",
    "# Preparamos el fichero JSON que usaremos de puente para el resultado\n",
    "  \n",
    "with open('./RqValidation-Result.json', 'w') as outfile:  \n",
    "    json.dump(result_list, outfile)"
   ]
  },
  {
   "cell_type": "code",
   "execution_count": null,
   "metadata": {},
   "outputs": [],
   "source": [
    "for e in result_list:\n",
    "    print(e)\n",
    "print(\"Acabamos\")"
   ]
  },
  {
   "cell_type": "code",
   "execution_count": null,
   "metadata": {},
   "outputs": [],
   "source": []
  }
 ],
 "metadata": {
  "kernelspec": {
   "display_name": "Python 3",
   "language": "python",
   "name": "python3"
  },
  "language_info": {
   "codemirror_mode": {
    "name": "ipython",
    "version": 3
   },
   "file_extension": ".py",
   "mimetype": "text/x-python",
   "name": "python",
   "nbconvert_exporter": "python",
   "pygments_lexer": "ipython3",
   "version": "3.7.3"
  }
 },
 "nbformat": 4,
 "nbformat_minor": 2
}
