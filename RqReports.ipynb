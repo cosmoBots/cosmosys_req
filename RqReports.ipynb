{
 "cells": [
  {
   "cell_type": "code",
   "execution_count": null,
   "metadata": {},
   "outputs": [],
   "source": [
    "from cfg.configfile_req import *\n",
    "from redminelib import Redmine\n",
    "\n",
    "redmine = Redmine(req_server_url,key=req_key_txt)\n",
    "projects = redmine.project.all()\n",
    "\n",
    "print(\"Proyectos:\")\n",
    "for p in projects:\n",
    "    print (\"\\t\",p.identifier,\" \\t| \",p.name)\n",
    "\n",
    "    "
   ]
  },
  {
   "cell_type": "code",
   "execution_count": null,
   "metadata": {},
   "outputs": [],
   "source": [
    "my_project = redmine.project.get(req_project_id_str)\n",
    "print (\"Obtenemos proyecto: \",my_project.identifier,\" | \",my_project.name)"
   ]
  },
  {
   "cell_type": "code",
   "execution_count": null,
   "metadata": {},
   "outputs": [],
   "source": [
    "tmp = redmine.issue.filter(project_id=req_project_id_str, tracker_id=req_rq_tracker_id)\n",
    "my_project_issues = sorted(tmp, key=lambda k: k.subject)"
   ]
  },
  {
   "cell_type": "markdown",
   "metadata": {},
   "source": [
    "Ahora recorremos el proyecto y sacamos los diagramas completos de jerarquía y dependencias, y guardamos los ficheros de esos diagramas en la carpeta doc."
   ]
  },
  {
   "cell_type": "code",
   "execution_count": null,
   "metadata": {},
   "outputs": [],
   "source": [
    "from graphviz import Digraph\n",
    "\n",
    "path_root = img_dir + my_project.identifier+\"_\"\n",
    "\n",
    "prj_graph = Digraph(name=path_root+\"h\", format='svg', node_attr={'shape':'box', 'style':'filled','URL':req_server_url})\n",
    "prj_graphb = Digraph(name=path_root+\"h\", format='svg', engine='dot', node_attr={'shape':'box', 'style':'filled','URL':req_server_url})\n",
    "\n",
    "for i in my_project_issues:\n",
    "    prj_graph.node(str(i.id),i.subject,URL=req_server_url+'/issues/'+str(i.id))\n",
    "    print(i.id,\": \",i.subject)\n",
    "    for child in i.children:\n",
    "        prj_graph.edge(str(i.id),str(child.id))\n",
    "    \n",
    "    my_issue_relations = redmine.issue_relation.filter(issue_id=i.id)\n",
    "    #print(len(my_issue_relations))\n",
    "    my_filtered_issue_relations = list(filter(lambda x: x.issue_to_id != i.id, my_issue_relations))\n",
    "    #print(len(my_filtered_issue_relations))\n",
    "    if (len(my_issue_relations)>0):\n",
    "        prj_graphb.node(str(i.id),i.subject,URL=req_server_url+'/issues/'+str(i.id))\n",
    "        for r in my_filtered_issue_relations:\n",
    "            related_element = redmine.issue.get(r.issue_to_id)\n",
    "            print(\"related_element: \",related_element,\" : \",related_element.tracker)\n",
    "            if (related_element.tracker.id == req_rq_tracker_id):\n",
    "                #print(\"\\t\"+r.relation_type+\"\\t\"+str(r.issue_id)+\"\\t\"+str(r.issue_to_id))\n",
    "                prj_graphb.edge(str(i.id),str(r.issue_to_id),color=\"blue\")\n",
    "            \n",
    "\n",
    "prj_graph.render()\n",
    "prj_graphb.render()\n",
    "print(prj_graphb)\n",
    "print(\"Acabamos\")"
   ]
  },
  {
   "cell_type": "markdown",
   "metadata": {},
   "source": [
    "Ahora vamos a generar los diagramas de jerarquía y de dependencia para cada una de los requisitos, y los guardaremos en la carpeta doc."
   ]
  },
  {
   "cell_type": "code",
   "execution_count": null,
   "metadata": {},
   "outputs": [],
   "source": [
    "from lib.csysrq_support import *\n",
    "import os\n",
    "\n",
    "# Generamos los diagramas correspondientes a los requisitos del proyecto\n",
    "for my_issue in my_project_issues:\n",
    "    path_root = img_dir + str(my_issue.id)+\"_\"\n",
    "    target_issue_id = my_issue.id\n",
    "    prj_graphc = Digraph(name=path_root+\"h\", format='svg', engine='dot', node_attr={'shape':'box', 'style':'filled','URL':req_server_url})\n",
    "    target_issue = draw_descendants(redmine,req_server_url,target_issue_id,prj_graphc)\n",
    "    current_parent = getattr(target_issue, 'parent', None)\n",
    "    if current_parent is not None:    \n",
    "        draw_ancestors(redmine,req_server_url,target_issue.parent,target_issue_id,prj_graphc)\n",
    "\n",
    "    prj_graphc.node(str(target_issue.id),target_issue.subject,URL=req_server_url+'/issues/'+str(target_issue.id),color='green')\n",
    "    prj_graphc.render()\n",
    "    os.symlink(path_root+\"h.gv.svg\",img_dir + my_issue.subject+\"_\"+\"h.gv.svg\")\n",
    "\n",
    "    print(\"\\n\\n---------- Diagrama ----------\",my_issue)\n",
    "    prj_graphd = Digraph(name=path_root+\"d\", format='svg', engine='dot', node_attr={'shape':'box', 'style':'filled','URL':req_server_url})\n",
    "    my_issue = draw_postpropagation(redmine,req_server_url,target_issue_id,prj_graphd,req_rq_tracker_id)\n",
    "    if (my_issue.tracker.id == req_rq_tracker_id):\n",
    "        draw_prepropagation(redmine,req_server_url,target_issue_id,prj_graphd,req_rq_tracker_id)\n",
    "        prj_graphd.node(str(my_issue.id),my_issue.subject,URL=req_server_url+'/issues/'+str(my_issue.id),color='green')\n",
    "        prj_graphd.render()\n",
    "        os.symlink(path_root+\"d.gv.svg\",img_dir + my_issue.subject+\"_\"+\"d.gv.svg\")\n",
    "    \n",
    "print(\"Acabamos\")"
   ]
  },
  {
   "cell_type": "markdown",
   "metadata": {},
   "source": [
    "Vamos a grabar el fichero JSON intermedio para generar los reportes"
   ]
  },
  {
   "cell_type": "code",
   "execution_count": null,
   "metadata": {},
   "outputs": [],
   "source": [
    "import json\n",
    "\n",
    "# Preparamos el fichero JSON que usaremos de puente para generar la documentación\n",
    "\n",
    "data = {}\n",
    "data['docs'] = []\n",
    "data['issues'] = []\n",
    "\n",
    "tmp = redmine.issue.filter(project_id=req_project_id_str, tracker_id=req_doc_tracker_id)\n",
    "my_project_docs = sorted(tmp, key=lambda k: k.subject)\n",
    "\n",
    "for my_doc in my_project_docs:\n",
    "    json_issue = {\n",
    "            'id': my_doc.id,\n",
    "            'subject': my_doc.subject,\n",
    "            'description': my_doc.description,\n",
    "            'title': my_doc.custom_fields.get(req_title_cf_id).value,\n",
    "            'docprefix': my_doc.custom_fields.get(req_prefix_cf_id).value,\n",
    "            'chapter': my_doc.custom_fields.get(req_chapter_cf_id).value,\n",
    "    }\n",
    "    data['docs'].append(json_issue)\n",
    "\n",
    "for i in my_project_issues:\n",
    "    my_issue = redmine.issue.get(i.id)\n",
    "    s = getattr(my_issue, 'status', None)\n",
    "    if s is not None:\n",
    "        status_name = s.name\n",
    "    v = getattr(my_issue, 'fixed_version', None)\n",
    "    if v is not None:\n",
    "        target_name = v.name\n",
    "    else:\n",
    "        target_name = None\n",
    "        \n",
    "    \n",
    "    json_issue = {\n",
    "            'id': my_issue.id,\n",
    "            'subject': my_issue.subject,\n",
    "            'description': my_issue.description,\n",
    "            'title': my_issue.custom_fields.get(req_title_cf_id).value,\n",
    "            'type': my_issue.custom_fields.get(req_type_cf_id).value,\n",
    "            'level': my_issue.custom_fields.get(req_level_cf_id).value,\n",
    "            'sources': my_issue.custom_fields.get(req_sources_cf_id).value,\n",
    "            'rationale': my_issue.custom_fields.get(req_rationale_cf_id).value,\n",
    "            'rq_value': my_issue.custom_fields.get(req_value_cf_id).value,\n",
    "            'rq_var': my_issue.custom_fields.get(req_var_cf_id).value,\n",
    "            'chapter': my_issue.custom_fields.get(req_chapter_cf_id).value,\n",
    "            'target': target_name,\n",
    "            'state': status_name,\n",
    "            'url_h': \"./img/\"+my_issue.subject+\"_h.gv.svg\",\n",
    "            'url_d': \"./img/\"+my_issue.subject+\"_d.gv.svg\"\n",
    "    }\n",
    "    data['issues'].append(json_issue)\n",
    "    \n",
    "    \n",
    "    \n",
    "with open('./reporting/doc/reqs.json', 'w') as outfile:  \n",
    "    json.dump(data, outfile)\n",
    "    \n",
    "print(\"Acabamos\")"
   ]
  },
  {
   "cell_type": "markdown",
   "metadata": {},
   "source": [
    "Lanzamos la herramienta Carbone en Node, para generar los reportes de documentación."
   ]
  },
  {
   "cell_type": "code",
   "execution_count": null,
   "metadata": {},
   "outputs": [],
   "source": [
    "from Naked.toolshed.shell import execute_js\n",
    "\n",
    "success = execute_js('./reporting/lib/launch_carbone.js')\n",
    "print(success)\n",
    "\n",
    "if success:\n",
    "    # handle success of the JavaScript\n",
    "    print(\"Todo fue bien\")\n",
    "\n",
    "else:\n",
    "    # handle failure of the JavaScript\n",
    "    print(\"todo fue mal\")"
   ]
  },
  {
   "cell_type": "markdown",
   "metadata": {},
   "source": [
    "Vamos a generar el archivo JSON para crear el árbol"
   ]
  },
  {
   "cell_type": "code",
   "execution_count": null,
   "metadata": {},
   "outputs": [],
   "source": [
    "import json\n",
    "\n",
    "# Preparamos el fichero JSON que usaremos para el árbol\n",
    "\n",
    "def create_tree(current_issue):\n",
    "    print(\"issue: \" + current_issue.subject)\n",
    "    tree_node = {'title': current_issue.custom_fields.get(req_chapter_cf_id).value + \": \" + current_issue.subject + \": \" + current_issue.custom_fields.get(req_title_cf_id).value,\n",
    "             'subtitle': current_issue.description,\n",
    "             'expanded': True,\n",
    "             'children': [],\n",
    "            }\n",
    "    chlist = redmine.issue.filter(project_id=req_project_id_str, parent_id=current_issue.id)\n",
    "    childrenitems = sorted(chlist, key=lambda k: k.custom_fields.get(req_chapter_cf_id).value)\n",
    "    for c in childrenitems:\n",
    "        child_issue = redmine.issue.get(c.id)\n",
    "        child_node = create_tree(child_issue)\n",
    "        tree_node['children'].append(child_node)\n",
    "        \n",
    "    return tree_node\n",
    "\n",
    "treedata = []\n",
    "for i in my_project_docs:\n",
    "    current_parent = getattr(i, 'parent', None)\n",
    "    if (current_parent == None):\n",
    "        tree_node = create_tree(i)\n",
    "        treedata.append(tree_node)\n",
    "\n",
    "\n",
    "with open('./reqtree/src/reqtreedata.json', 'w') as outfile:  \n",
    "    json.dump(treedata, outfile)\n",
    "\n",
    "\n",
    "print(\"Acabamos\")"
   ]
  },
  {
   "cell_type": "code",
   "execution_count": null,
   "metadata": {},
   "outputs": [],
   "source": []
  }
 ],
 "metadata": {
  "kernelspec": {
   "display_name": "Python 3",
   "language": "python",
   "name": "python3"
  },
  "language_info": {
   "codemirror_mode": {
    "name": "ipython",
    "version": 3
   },
   "file_extension": ".py",
   "mimetype": "text/x-python",
   "name": "python",
   "nbconvert_exporter": "python",
   "pygments_lexer": "ipython3",
   "version": "3.7.3"
  }
 },
 "nbformat": 4,
 "nbformat_minor": 2
}
