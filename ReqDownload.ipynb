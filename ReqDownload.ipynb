{
 "cells": [
  {
   "cell_type": "code",
   "execution_count": null,
   "metadata": {},
   "outputs": [],
   "source": [
    "%run ./RqConnectNList.ipynb"
   ]
  },
  {
   "cell_type": "markdown",
   "metadata": {},
   "source": [
    "Conectaremos con nuestra instancia de PYOO\n",
    "https://github.com/seznam/pyoo"
   ]
  },
  {
   "cell_type": "code",
   "execution_count": null,
   "metadata": {
    "scrolled": true
   },
   "outputs": [],
   "source": [
    "import pyoo\n",
    "desktop = pyoo.Desktop('localhost', 2002)"
   ]
  },
  {
   "cell_type": "markdown",
   "metadata": {},
   "source": [
    "Copiamos el template del fichero de exportación al nombre de exportación"
   ]
  },
  {
   "cell_type": "code",
   "execution_count": null,
   "metadata": {},
   "outputs": [],
   "source": [
    "from shutil import copyfile\n",
    "\n",
    "copyfile('./downloading/templates/RqDownload.ods', req_download_file_name)"
   ]
  },
  {
   "cell_type": "markdown",
   "metadata": {},
   "source": [
    "Hemos de cargar los RqTarget"
   ]
  },
  {
   "cell_type": "code",
   "execution_count": null,
   "metadata": {},
   "outputs": [],
   "source": [
    "# Conectamos con la hoja\n",
    "doc = desktop.open_spreadsheet(req_download_file_name)\n",
    "\n",
    "# La lista de RqTarget empieza en B7, hacia abajo\n",
    "rq_target_column = 2\n",
    "rq_target_row = 8\n",
    "\n"
   ]
  },
  {
   "cell_type": "code",
   "execution_count": null,
   "metadata": {},
   "outputs": [],
   "source": [
    "print(dir(doc))\n",
    "print(len(doc.sheets))\n",
    "doc_dict = doc.sheets['Dict']\n",
    "print(doc_dict)\n",
    "#print(doc_dict[rq_target_row,rq_target_column].address)\n",
    "#doc_dict[rq_target_row,rq_target_column].value = 5"
   ]
  },
  {
   "cell_type": "code",
   "execution_count": null,
   "metadata": {},
   "outputs": [],
   "source": [
    "doc_dict[req_download_url_row,req_download_url_column].value = req_server_url\n",
    "rowindex = req_upload_version_startrow\n",
    "for v in my_project.versions:\n",
    "    doc_dict[rowindex,req_upload_version_column].value = v.name\n",
    "    rowindex += 1"
   ]
  },
  {
   "cell_type": "markdown",
   "metadata": {},
   "source": [
    "Ahora generaremos los documentos a partir de los reqdoc"
   ]
  },
  {
   "cell_type": "code",
   "execution_count": null,
   "metadata": {},
   "outputs": [],
   "source": [
    "tabnumber = 3\n",
    "for my_issue in my_doc_issues:\n",
    "    print(\"********** \",my_issue)\n",
    "    prefix = my_issue.custom_fields.get(req_prefix_cf_id).value\n",
    "    mysheet = doc.sheets.copy('Template', my_issue.subject, tabnumber)\n",
    "    tabnumber += 1\n",
    "    mysheet[req_download_doc_row,req_download_doc_name_column].value = my_issue.description\n",
    "    mysheet[req_download_doc_row,req_download_doc_prefix_column].value = prefix\n",
    "    current_parent = getattr(my_issue, 'parent', None)\n",
    "    if current_parent is not None:\n",
    "        parent_issue = redmine.issue.get(current_parent.id)\n",
    "        print(\"parent: \",parent_issue.subject)\n",
    "        # Rellenamos la celda del padre\n",
    "        mysheet[req_download_doc_row,req_download_doc_parent_column].value = parent_issue.subject\n",
    "        \n",
    "    current_version = getattr(my_issue, 'fixed_version', None)\n",
    "    \n",
    "'''\n",
    "    # De momento en el Excel los docs no tienen versión ni muchas otras informaciones,\n",
    "    # que deberemos incorporar, como la BD ID, la BD URL, etc...\n",
    "    # Dejamos este código aquí, proviniente de la exportación a DOORSTOP, hasta que \n",
    "    # enriquezcamos el formato LibreOffice para guardar toda esa info.\n",
    "    current_version = getattr(my_issue, 'fixed_version', None)\n",
    "    if (current_version is not None):\n",
    "        print(\"target:\",current_version)\n",
    "        print(dir(current_version))\n",
    "        version_name = current_version.name\n",
    "    else:\n",
    "        version_name = ''\n",
    "\n",
    "    doc.set('BDID', str(my_issue.id))\n",
    "    doc.set('BDURL', req_server_url+\"/issues/\"+str(my_issue.id))\n",
    "    doc.set('RqSubject', my_issue.subject)\n",
    "    doc.set('RqTitle', my_issue.custom_fields.get(req_title_cf_id).value)\n",
    "    if (parent_issue is not None):\n",
    "        doc.set('RqParent', parent_issue.subject)\n",
    "    else:\n",
    "        doc.set('RqParent', '')\n",
    "    doc.set('RqRationale', my_issue.custom_fields.get(req_rationale_cf_id).value)\n",
    "    doc.set('RqLevel', my_issue.custom_fields.get(req_level_cf_id).value)\n",
    "    doc.set('RqType', my_issue.custom_fields.get(req_type_cf_id).value)\n",
    "    doc.set('RqSources', my_issue.custom_fields.get(req_sources_cf_id).value)\n",
    "    doc.set('RqChapter', my_issue.custom_fields.get(req_chapter_cf_id).value)\n",
    "    doc.set('RqTarget', version_name)\n",
    "    doc.set('text', my_issue.description)\n",
    "    \n",
    "    # Ahora grabamos un requisito cero:\n",
    "    newitem = Item.new(tree, doc,\n",
    "        doc.path, doc.root, my_issue.subject+\"-0000\",\n",
    "        auto=False)\n",
    "    newitem.set('BDID', str(my_issue.id))\n",
    "    newitem.set('BDURL', req_server_url+\"/issues/\"+str(my_issue.id))\n",
    "    newitem.set('RqSubject', my_issue.subject)\n",
    "    newitem.set('RqTitle', my_issue.custom_fields.get(req_title_cf_id).value)\n",
    "    if (parent_issue is not None):\n",
    "        newitem.set('RqParent', parent_issue.subject)\n",
    "        \n",
    "    else:\n",
    "        newitem.set('RqParent', '')\n",
    "        \n",
    "    newitem.set('RqRationale', my_issue.custom_fields.get(req_rationale_cf_id).value)\n",
    "    newitem.set('RqLevel', my_issue.custom_fields.get(req_level_cf_id).value)\n",
    "    newitem.set('RqType', my_issue.custom_fields.get(req_type_cf_id).value)\n",
    "    newitem.set('RqSources', my_issue.custom_fields.get(req_sources_cf_id).value)\n",
    "    newitem.set('RqChapter', my_issue.custom_fields.get(req_chapter_cf_id).value)\n",
    "    newitem.set('RqTarget', version_name)\n",
    "    newitem.set('text', my_issue.description)\n",
    "    newitem.save()\n",
    "'''        "
   ]
  },
  {
   "cell_type": "markdown",
   "metadata": {},
   "source": [
    "Ahora crearemos los requisitos \"hijos\" dentro de cada documento"
   ]
  },
  {
   "cell_type": "code",
   "execution_count": null,
   "metadata": {},
   "outputs": [],
   "source": [
    "def find_doc(this_issue):\n",
    "    print(\"find_doc: \",this_issue)\n",
    "    if this_issue.tracker.id == req_doc_tracker_id:\n",
    "        print(\"retorno this\", this_issue.subject)\n",
    "        return this_issue.subject,this_issue.custom_fields.get(req_prefix_cf_id).value \n",
    "\n",
    "    # not do found yet\n",
    "    current_parent = getattr(this_issue, 'parent', None)\n",
    "    if current_parent is None:\n",
    "        print(\"retorno none\")\n",
    "        return \"\",\"\"\n",
    "    \n",
    "    else:\n",
    "        parent_issue = redmine.issue.get(current_parent.id)\n",
    "        print(\"Llamo al padre\")\n",
    "        return find_doc(parent_issue)\n",
    "    \n",
    "current_row = {}\n",
    "for my_issue in my_doc_issues:\n",
    "    current_row[my_issue.subject] = req_upload_first_row\n",
    "    \n",
    "print(current_row)\n",
    "\n",
    "\n",
    "for my_issue in my_project_issues:\n",
    "    reqname = my_issue.subject\n",
    "    print(\"reqname: \",reqname)\n",
    "    current_parent = getattr(my_issue, 'parent', None)\n",
    "    if current_parent is not None:\n",
    "        print(\"current_parent 1: \",current_parent)\n",
    "        parent_issue = redmine.issue.get(current_parent.id)\n",
    "        if parent_issue.tracker.id != req_rq_tracker_id:\n",
    "            current_parent = None\n",
    "        else:\n",
    "            print(\"parent: \",parent_issue.subject)\n",
    "    \n",
    "    thisdoc,thisprefix = find_doc(parent_issue)\n",
    "    print(\"thisdoc:\",thisdoc)\n",
    "    print(\"thisprefix:\",thisprefix)\n",
    "    thistab = doc.sheets[thisdoc]\n",
    "    currrow = current_row[thisdoc]\n",
    "    print(\"add the req to the row \",currrow,\" of the tab \",thistab)\n",
    "    current_version = getattr(my_issue, 'fixed_version', None)\n",
    "    idstr = my_issue.subject.replace(thisprefix,'')\n",
    "\n",
    "    thistab[currrow,req_upload_id_column].value = my_issue.subject\n",
    "    thistab[currrow,req_upload_title_column].value = my_issue.custom_fields.get(req_title_cf_id).value\n",
    "    thistab[currrow,req_upload_descr_column].value = my_issue.description\n",
    "    thistab[currrow,req_upload_source_column].value = my_issue.custom_fields.get(req_sources_cf_id).value\n",
    "    thistab[currrow,req_upload_type_column].value = my_issue.custom_fields.get(req_type_cf_id).value\n",
    "    thistab[currrow,req_upload_level_column].value = my_issue.custom_fields.get(req_level_cf_id).value\n",
    "    thistab[currrow,req_upload_rationale_column].value = my_issue.custom_fields.get(req_rationale_cf_id).value\n",
    "    thistab[currrow,req_upload_var_column].value = my_issue.custom_fields.get(req_var_cf_id).value\n",
    "    thistab[currrow,req_upload_value_column].value = my_issue.custom_fields.get(req_value_cf_id).value\n",
    "    thistab[currrow,req_upload_chapter_column].value = my_issue.custom_fields.get(req_chapter_cf_id).value.replace(thisprefix,'')\n",
    "    thistab[currrow,req_upload_status_column].value = my_issue.status\n",
    "    thistab[currrow,req_download_rqid_column].value = my_issue.id\n",
    "    thistab[currrow,req_download_bdid_column].value = int(idstr)\n",
    "    \n",
    "    if (current_version is not None):\n",
    "        thistab[currrow,req_upload_target_column].value = current_version.name\n",
    "\n",
    "    if current_parent is not None:\n",
    "        thistab[currrow,req_upload_parent_column].value = parent_issue.subject\n",
    "\n",
    "        \n",
    "    # Busco las relaciones en las que es destinatario\n",
    "    my_issue_relations = redmine.issue_relation.filter(issue_id=my_issue.id)\n",
    "    my_filtered_issue_relations = list(filter(lambda x: x.issue_id != my_issue.id, my_issue_relations))\n",
    "\n",
    "    # Recorro las relaciones creando los links\n",
    "    relstr = \"\"\n",
    "    firstrel = True\n",
    "    for rel in my_filtered_issue_relations:\n",
    "        # Obtenemos la incidencia y el item doorstop del objeto que es origen de la relación de Redmine,\n",
    "        # que significa que es destinatario de la relación de doorstop, ya que es el elemento que está\n",
    "        # condicionando al actual (el actual depende de él)\n",
    "        relissue = redmine.issue.get(rel.issue_id)\n",
    "        print(\"Relacionado: \",rel,\" de \",relissue.subject,\" a \",my_issue.subject)\n",
    "        if firstrel:\n",
    "            firstrel = False\n",
    "        else:\n",
    "            relstr += \" \"\n",
    "            \n",
    "        relstr += relissue.subject\n",
    "        \n",
    "    if not firstrel:\n",
    "        thistab[currrow,req_upload_related_column].value = relstr\n",
    "\n",
    "    current_row[thisdoc] = currrow + 1    \n",
    "        \n",
    "    '''\n",
    "    if (prefix is not None):\n",
    "        print(\"prefix: \",prefix)        \n",
    "        #newitem = tree.add_item(prefix)\n",
    "        #newitem.text = my_issue.description\n",
    "        document = tree.find_document(prefix)\n",
    "        newitem = Item.new(tree, document,\n",
    "                document.path, document.root, my_issue.subject,\n",
    "                auto=False)\n",
    "        newitem.set('BDID', str(my_issue.id))\n",
    "        newitem.set('BDURL', req_server_url+\"/issues/\"+str(my_issue.id))\n",
    "        newitem.set('RqSubject', my_issue.subject)\n",
    "        newitem.set('RqTitle', my_issue.custom_fields.get(req_title_cf_id).value)\n",
    "        if (parent_issue is not None):\n",
    "            newitem.set('RqParent', parent_issue.subject)\n",
    "        \n",
    "        else:\n",
    "            newitem.set('RqParent', '')\n",
    "\n",
    "        newitem.set('RqRationale', my_issue.custom_fields.get(req_rationale_cf_id).value)\n",
    "        newitem.set('RqLevel', my_issue.custom_fields.get(req_level_cf_id).value)\n",
    "        newitem.set('RqType', my_issue.custom_fields.get(req_type_cf_id).value)\n",
    "        newitem.set('RqSources', my_issue.custom_fields.get(req_sources_cf_id).value)\n",
    "        newitem.set('RqChapter', my_issue.custom_fields.get(req_chapter_cf_id).value)\n",
    "        newitem.set('RqTarget', version_name)\n",
    "        newitem.set('text', my_issue.description)\n",
    "        newitem.save()\n",
    "        print(\"---->\",newitem)'''\n"
   ]
  },
  {
   "cell_type": "code",
   "execution_count": null,
   "metadata": {},
   "outputs": [],
   "source": [
    "del doc.sheets['Template']"
   ]
  },
  {
   "cell_type": "code",
   "execution_count": null,
   "metadata": {},
   "outputs": [],
   "source": [
    "doc.save()"
   ]
  },
  {
   "cell_type": "code",
   "execution_count": null,
   "metadata": {},
   "outputs": [],
   "source": [
    "doc.close()"
   ]
  },
  {
   "cell_type": "code",
   "execution_count": null,
   "metadata": {},
   "outputs": [],
   "source": []
  }
 ],
 "metadata": {
  "kernelspec": {
   "display_name": "Python 3",
   "language": "python",
   "name": "python3"
  },
  "language_info": {
   "codemirror_mode": {
    "name": "ipython",
    "version": 3
   },
   "file_extension": ".py",
   "mimetype": "text/x-python",
   "name": "python",
   "nbconvert_exporter": "python",
   "pygments_lexer": "ipython3",
   "version": "3.7.3"
  }
 },
 "nbformat": 4,
 "nbformat_minor": 2
}
