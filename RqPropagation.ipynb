{
 "cells": [
  {
   "cell_type": "code",
   "execution_count": null,
   "metadata": {},
   "outputs": [],
   "source": [
    "%run ./RqValidation.ipynb"
   ]
  },
  {
   "cell_type": "code",
   "execution_count": null,
   "metadata": {},
   "outputs": [],
   "source": [
    "def propagate_maturity(rq,mat_st,mat_lev):\n",
    "    # Actualizamos el estado del requisito\n",
    "    print(\"rq:\",rq)\n",
    "    print(\"this_rq_st: \",rq.status.name)\n",
    "    this_rq_mat_lev = req_status_maturity[rq.status.name]\n",
    "    print(\"this_rq_mat_lev: \",this_rq_mat_lev)\n",
    "    print(\"mat_lev:\", mat_lev)\n",
    "    if (mat_lev<this_rq_mat_lev):\n",
    "        # Nos toca propagar el cambio\n",
    "        redmine.issue.update(resource_id=rq.id,\n",
    "                             status_id = mat_st)        \n",
    "        # Propagaremos el cambio a aquellas relaciones dependientes de madurez superior\n",
    "        rel = redmine.issue_relation.filter(issue_id=rq.id)\n",
    "        rel_filt = list(filter(lambda x: x.issue_to_id != rq.id, rel))\n",
    "        if (len(rel_filt)>0):\n",
    "            for r in rel_filt:\n",
    "                req_to_change = redmine.issue.get(r.issue_to_id)\n",
    "                propagate_maturity(req_to_change,mat_st,mat_lev)\n",
    "\n",
    "    \n",
    "\n",
    "for e in result_list:\n",
    "    if (e['type'] == 'dependency'):\n",
    "        mat = (e['dependable'])['status_maturity']\n",
    "        dependent_id = e['dependent']['id']\n",
    "        print(dependent_id)\n",
    "        maturity_str = req_maturity_propagation[mat]\n",
    "        st_list = redmine.issue_status.all()\n",
    "        status_to_set = None\n",
    "        for st in st_list:\n",
    "            if (st.name == maturity_str):\n",
    "                print(st.name)\n",
    "                status_to_set = st\n",
    "                \n",
    "        if status_to_set is not None:\n",
    "            print(\"Propagamos: \",dependent_id, \" \", status_to_set.id)\n",
    "            req_to_change = redmine.issue.get(dependent_id)\n",
    "            propagate_maturity(req_to_change,status_to_set.id, mat)\n",
    "            print(\"Acabamos con \",e)\n",
    "        else:\n",
    "            print(\"ERROR, no pudimos encontrar el estado\")\n",
    "        \n",
    "\n",
    "print(\"Acabamos!!!\")"
   ]
  },
  {
   "cell_type": "code",
   "execution_count": null,
   "metadata": {},
   "outputs": [],
   "source": []
  },
  {
   "cell_type": "code",
   "execution_count": null,
   "metadata": {},
   "outputs": [],
   "source": []
  }
 ],
 "metadata": {
  "kernelspec": {
   "display_name": "Python 3",
   "language": "python",
   "name": "python3"
  },
  "language_info": {
   "codemirror_mode": {
    "name": "ipython",
    "version": 3
   },
   "file_extension": ".py",
   "mimetype": "text/x-python",
   "name": "python",
   "nbconvert_exporter": "python",
   "pygments_lexer": "ipython3",
   "version": "3.7.3"
  }
 },
 "nbformat": 4,
 "nbformat_minor": 2
}
