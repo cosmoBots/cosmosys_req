{
 "cells": [
  {
   "cell_type": "code",
   "execution_count": 8,
   "metadata": {},
   "outputs": [
    {
     "name": "stdout",
     "output_type": "stream",
     "text": [
      "Proyectos:\n",
      "\t reqtest  \t|  Requirements test\n"
     ]
    }
   ],
   "source": [
    "from cfg.configfile_req import *\n",
    "from lib.csysrq_support import *\n",
    "from redminelib import Redmine\n",
    "\n",
    "redmine = Redmine(req_server_url,key=req_key_txt)\n",
    "projects = redmine.project.all()\n",
    "\n",
    "print(\"Proyectos:\")\n",
    "for p in projects:\n",
    "    print (\"\\t\",p.identifier,\" \\t| \",p.name)\n",
    "    "
   ]
  },
  {
   "cell_type": "code",
   "execution_count": 9,
   "metadata": {},
   "outputs": [
    {
     "name": "stdout",
     "output_type": "stream",
     "text": [
      "Obtenemos proyecto:  reqtest  |  Requirements test\n"
     ]
    }
   ],
   "source": [
    "my_project = redmine.project.get(req_project_id_str)\n",
    "print (\"Obtenemos proyecto: \",my_project.identifier,\" | \",my_project.name)"
   ]
  },
  {
   "cell_type": "code",
   "execution_count": 10,
   "metadata": {},
   "outputs": [],
   "source": [
    "tmp = redmine.issue.filter(project_id=req_project_id_str, tracker_id=req_rq_tracker_id)\n",
    "my_project_issues = sorted(tmp, key=lambda k: k.subject)\n",
    "tmp = redmine.issue.filter(project_id=req_project_id_str, tracker_id=req_doc_tracker_id)\n",
    "my_doc_issues = sorted(tmp, key=lambda k: k.subject)"
   ]
  },
  {
   "cell_type": "markdown",
   "metadata": {},
   "source": [
    "Ahora conectamos con DOORSTOP"
   ]
  },
  {
   "cell_type": "code",
   "execution_count": 11,
   "metadata": {
    "scrolled": true
   },
   "outputs": [
    {
     "data": {
      "text/plain": [
       "'1.5.1'"
      ]
     },
     "execution_count": 11,
     "metadata": {},
     "output_type": "execute_result"
    }
   ],
   "source": [
    "import doorstop\n",
    "\n",
    "doorstop.__version__"
   ]
  },
  {
   "cell_type": "markdown",
   "metadata": {},
   "source": [
    "Creamos la raíz de los requisitos en doorstop"
   ]
  },
  {
   "cell_type": "markdown",
   "metadata": {},
   "source": [
    "Ahora generaremos los documentos a partir de aquellos requisitos que tengan algún hijo"
   ]
  },
  {
   "cell_type": "code",
   "execution_count": 12,
   "metadata": {},
   "outputs": [
    {
     "name": "stdout",
     "output_type": "stream",
     "text": [
      "**********  SR\n",
      "**********  SRC\n",
      "prefix:  SRC-\n"
     ]
    },
    {
     "name": "stderr",
     "output_type": "stream",
     "text": [
      "/home/cosmobots/anaconda3/lib/python3.7/site-packages/NRT_Doorstop-1.5.1-py3.7.egg/doorstop/common.py:126: YAMLLoadWarning: calling yaml.load() without Loader=... is deprecated, as the default Loader is unsafe. Please read https://msg.pyyaml.org/load for full details.\n",
      "  data = yaml.load(text) or {}\n",
      "/home/cosmobots/anaconda3/lib/python3.7/site-packages/NRT_Doorstop-1.5.1-py3.7.egg/doorstop/common.py:126: YAMLLoadWarning: calling yaml.load() without Loader=... is deprecated, as the default Loader is unsafe. Please read https://msg.pyyaml.org/load for full details.\n",
      "  data = yaml.load(text) or {}\n"
     ]
    }
   ],
   "source": [
    "tree = doorstop.build()\n",
    "\n",
    "rootIssue = True\n",
    "for my_issue in my_doc_issues:\n",
    "    print(\"********** \",my_issue)\n",
    "    if rootIssue:\n",
    "        docpath = \"./doorstop/\"+my_issue.subject\n",
    "        prefix = my_issue.subject+\"-\"\n",
    "        doc = tree.create_document(docpath,prefix)\n",
    "        rootIssue = False\n",
    "    else:\n",
    "                prefix = my_issue.subject+\"-\"           \n",
    "                parent_issue = redmine.issue.get(my_issue.parent.id)\n",
    "                #print(\"parent: \",parent_issue.subject)\n",
    "                docpath = \"./doorstop/\"+my_issue.subject\n",
    "                iss = redmine.issue.get(my_issue.id)\n",
    "                print(\"prefix: \",prefix)\n",
    "                doc = tree.create_document(docpath,prefix,parent=parent_issue.subject+\"-\")\n"
   ]
  },
  {
   "cell_type": "markdown",
   "metadata": {},
   "source": [
    "Ahora crearemos los requisitos \"hijos\" dentro de cada documento"
   ]
  },
  {
   "cell_type": "code",
   "execution_count": 13,
   "metadata": {},
   "outputs": [
    {
     "name": "stdout",
     "output_type": "stream",
     "text": [
      "reqname:  SR-0001\n",
      "parent:  SR\n",
      "prefix:  SR-\n",
      "----> SR-0001\n",
      "reqname:  SR-0002\n",
      "parent:  SR-0001\n",
      "Llamo al padre\n",
      "prefix:  SR-\n",
      "----> SR-0002\n",
      "reqname:  SR-0003\n",
      "parent:  SR\n",
      "prefix:  SR-\n",
      "----> SR-0003\n",
      "reqname:  SR-0004\n"
     ]
    },
    {
     "name": "stderr",
     "output_type": "stream",
     "text": [
      "/home/cosmobots/anaconda3/lib/python3.7/site-packages/NRT_Doorstop-1.5.1-py3.7.egg/doorstop/common.py:126: YAMLLoadWarning: calling yaml.load() without Loader=... is deprecated, as the default Loader is unsafe. Please read https://msg.pyyaml.org/load for full details.\n",
      "  data = yaml.load(text) or {}\n",
      "/home/cosmobots/anaconda3/lib/python3.7/site-packages/NRT_Doorstop-1.5.1-py3.7.egg/doorstop/common.py:126: YAMLLoadWarning: calling yaml.load() without Loader=... is deprecated, as the default Loader is unsafe. Please read https://msg.pyyaml.org/load for full details.\n",
      "  data = yaml.load(text) or {}\n"
     ]
    },
    {
     "name": "stdout",
     "output_type": "stream",
     "text": [
      "parent:  SR-0003\n",
      "Llamo al padre\n",
      "prefix:  SR-\n",
      "----> SR-0004\n",
      "reqname:  SR-0005\n",
      "parent:  SR-0004\n"
     ]
    },
    {
     "name": "stderr",
     "output_type": "stream",
     "text": [
      "/home/cosmobots/anaconda3/lib/python3.7/site-packages/NRT_Doorstop-1.5.1-py3.7.egg/doorstop/common.py:126: YAMLLoadWarning: calling yaml.load() without Loader=... is deprecated, as the default Loader is unsafe. Please read https://msg.pyyaml.org/load for full details.\n",
      "  data = yaml.load(text) or {}\n"
     ]
    },
    {
     "name": "stdout",
     "output_type": "stream",
     "text": [
      "Llamo al padre\n",
      "Llamo al padre\n",
      "prefix:  SR-\n",
      "----> SR-0005\n",
      "reqname:  SR-0006\n"
     ]
    },
    {
     "name": "stderr",
     "output_type": "stream",
     "text": [
      "/home/cosmobots/anaconda3/lib/python3.7/site-packages/NRT_Doorstop-1.5.1-py3.7.egg/doorstop/common.py:126: YAMLLoadWarning: calling yaml.load() without Loader=... is deprecated, as the default Loader is unsafe. Please read https://msg.pyyaml.org/load for full details.\n",
      "  data = yaml.load(text) or {}\n"
     ]
    },
    {
     "name": "stdout",
     "output_type": "stream",
     "text": [
      "parent:  SR-0004\n",
      "Llamo al padre\n",
      "Llamo al padre\n",
      "prefix:  SR-\n",
      "----> SR-0006\n",
      "reqname:  SR-0007\n"
     ]
    },
    {
     "name": "stderr",
     "output_type": "stream",
     "text": [
      "/home/cosmobots/anaconda3/lib/python3.7/site-packages/NRT_Doorstop-1.5.1-py3.7.egg/doorstop/common.py:126: YAMLLoadWarning: calling yaml.load() without Loader=... is deprecated, as the default Loader is unsafe. Please read https://msg.pyyaml.org/load for full details.\n",
      "  data = yaml.load(text) or {}\n"
     ]
    },
    {
     "name": "stdout",
     "output_type": "stream",
     "text": [
      "parent:  SR-0004\n",
      "Llamo al padre\n",
      "Llamo al padre\n",
      "prefix:  SR-\n",
      "----> SR-0007\n",
      "reqname:  SR-0008\n"
     ]
    },
    {
     "name": "stderr",
     "output_type": "stream",
     "text": [
      "/home/cosmobots/anaconda3/lib/python3.7/site-packages/NRT_Doorstop-1.5.1-py3.7.egg/doorstop/common.py:126: YAMLLoadWarning: calling yaml.load() without Loader=... is deprecated, as the default Loader is unsafe. Please read https://msg.pyyaml.org/load for full details.\n",
      "  data = yaml.load(text) or {}\n"
     ]
    },
    {
     "name": "stdout",
     "output_type": "stream",
     "text": [
      "parent:  SR-0004\n",
      "Llamo al padre\n",
      "Llamo al padre\n",
      "prefix:  SR-\n",
      "----> SR-0008\n",
      "reqname:  SR-0009\n"
     ]
    },
    {
     "name": "stderr",
     "output_type": "stream",
     "text": [
      "/home/cosmobots/anaconda3/lib/python3.7/site-packages/NRT_Doorstop-1.5.1-py3.7.egg/doorstop/common.py:126: YAMLLoadWarning: calling yaml.load() without Loader=... is deprecated, as the default Loader is unsafe. Please read https://msg.pyyaml.org/load for full details.\n",
      "  data = yaml.load(text) or {}\n",
      "/home/cosmobots/anaconda3/lib/python3.7/site-packages/NRT_Doorstop-1.5.1-py3.7.egg/doorstop/common.py:126: YAMLLoadWarning: calling yaml.load() without Loader=... is deprecated, as the default Loader is unsafe. Please read https://msg.pyyaml.org/load for full details.\n",
      "  data = yaml.load(text) or {}\n"
     ]
    },
    {
     "name": "stdout",
     "output_type": "stream",
     "text": [
      "parent:  SR-0003\n",
      "Llamo al padre\n",
      "prefix:  SR-\n",
      "----> SR-0009\n",
      "reqname:  SR-0010\n",
      "parent:  SR-0009\n",
      "Llamo al padre\n",
      "Llamo al padre\n",
      "prefix:  SR-\n",
      "----> SR-0010\n",
      "reqname:  SRC-0001\n"
     ]
    },
    {
     "name": "stderr",
     "output_type": "stream",
     "text": [
      "/home/cosmobots/anaconda3/lib/python3.7/site-packages/NRT_Doorstop-1.5.1-py3.7.egg/doorstop/common.py:126: YAMLLoadWarning: calling yaml.load() without Loader=... is deprecated, as the default Loader is unsafe. Please read https://msg.pyyaml.org/load for full details.\n",
      "  data = yaml.load(text) or {}\n",
      "/home/cosmobots/anaconda3/lib/python3.7/site-packages/NRT_Doorstop-1.5.1-py3.7.egg/doorstop/common.py:126: YAMLLoadWarning: calling yaml.load() without Loader=... is deprecated, as the default Loader is unsafe. Please read https://msg.pyyaml.org/load for full details.\n",
      "  data = yaml.load(text) or {}\n"
     ]
    },
    {
     "name": "stdout",
     "output_type": "stream",
     "text": [
      "parent:  SRC\n",
      "prefix:  SRC-\n",
      "----> SRC-0001\n",
      "reqname:  SRC-0002\n",
      "parent:  SRC-0001\n",
      "Llamo al padre\n",
      "prefix:  SRC-\n",
      "----> SRC-0002\n",
      "reqname:  SRC-0003\n",
      "parent:  SRC\n",
      "prefix:  SRC-\n",
      "----> SRC-0003\n",
      "reqname:  SRC-0004\n"
     ]
    },
    {
     "name": "stderr",
     "output_type": "stream",
     "text": [
      "/home/cosmobots/anaconda3/lib/python3.7/site-packages/NRT_Doorstop-1.5.1-py3.7.egg/doorstop/common.py:126: YAMLLoadWarning: calling yaml.load() without Loader=... is deprecated, as the default Loader is unsafe. Please read https://msg.pyyaml.org/load for full details.\n",
      "  data = yaml.load(text) or {}\n",
      "/home/cosmobots/anaconda3/lib/python3.7/site-packages/NRT_Doorstop-1.5.1-py3.7.egg/doorstop/common.py:126: YAMLLoadWarning: calling yaml.load() without Loader=... is deprecated, as the default Loader is unsafe. Please read https://msg.pyyaml.org/load for full details.\n",
      "  data = yaml.load(text) or {}\n"
     ]
    },
    {
     "name": "stdout",
     "output_type": "stream",
     "text": [
      "parent:  SRC-0003\n",
      "Llamo al padre\n",
      "prefix:  SRC-\n",
      "----> SRC-0004\n",
      "reqname:  SRC-0005\n",
      "parent:  SRC-0004\n"
     ]
    },
    {
     "name": "stderr",
     "output_type": "stream",
     "text": [
      "/home/cosmobots/anaconda3/lib/python3.7/site-packages/NRT_Doorstop-1.5.1-py3.7.egg/doorstop/common.py:126: YAMLLoadWarning: calling yaml.load() without Loader=... is deprecated, as the default Loader is unsafe. Please read https://msg.pyyaml.org/load for full details.\n",
      "  data = yaml.load(text) or {}\n"
     ]
    },
    {
     "name": "stdout",
     "output_type": "stream",
     "text": [
      "Llamo al padre\n",
      "Llamo al padre\n",
      "prefix:  SRC-\n",
      "----> SRC-0005\n",
      "reqname:  SRC-0006\n"
     ]
    },
    {
     "name": "stderr",
     "output_type": "stream",
     "text": [
      "/home/cosmobots/anaconda3/lib/python3.7/site-packages/NRT_Doorstop-1.5.1-py3.7.egg/doorstop/common.py:126: YAMLLoadWarning: calling yaml.load() without Loader=... is deprecated, as the default Loader is unsafe. Please read https://msg.pyyaml.org/load for full details.\n",
      "  data = yaml.load(text) or {}\n"
     ]
    },
    {
     "name": "stdout",
     "output_type": "stream",
     "text": [
      "parent:  SRC-0004\n",
      "Llamo al padre\n",
      "Llamo al padre\n",
      "prefix:  SRC-\n",
      "----> SRC-0006\n",
      "reqname:  SRC-0007\n"
     ]
    },
    {
     "name": "stderr",
     "output_type": "stream",
     "text": [
      "/home/cosmobots/anaconda3/lib/python3.7/site-packages/NRT_Doorstop-1.5.1-py3.7.egg/doorstop/common.py:126: YAMLLoadWarning: calling yaml.load() without Loader=... is deprecated, as the default Loader is unsafe. Please read https://msg.pyyaml.org/load for full details.\n",
      "  data = yaml.load(text) or {}\n"
     ]
    },
    {
     "name": "stdout",
     "output_type": "stream",
     "text": [
      "parent:  SRC-0004\n",
      "Llamo al padre\n",
      "Llamo al padre\n",
      "prefix:  SRC-\n",
      "----> SRC-0007\n",
      "reqname:  SRC-0008\n"
     ]
    },
    {
     "name": "stderr",
     "output_type": "stream",
     "text": [
      "/home/cosmobots/anaconda3/lib/python3.7/site-packages/NRT_Doorstop-1.5.1-py3.7.egg/doorstop/common.py:126: YAMLLoadWarning: calling yaml.load() without Loader=... is deprecated, as the default Loader is unsafe. Please read https://msg.pyyaml.org/load for full details.\n",
      "  data = yaml.load(text) or {}\n"
     ]
    },
    {
     "name": "stdout",
     "output_type": "stream",
     "text": [
      "parent:  SRC-0004\n",
      "Llamo al padre\n",
      "Llamo al padre\n",
      "prefix:  SRC-\n",
      "----> SRC-0008\n",
      "reqname:  SRC-0009\n"
     ]
    },
    {
     "name": "stderr",
     "output_type": "stream",
     "text": [
      "/home/cosmobots/anaconda3/lib/python3.7/site-packages/NRT_Doorstop-1.5.1-py3.7.egg/doorstop/common.py:126: YAMLLoadWarning: calling yaml.load() without Loader=... is deprecated, as the default Loader is unsafe. Please read https://msg.pyyaml.org/load for full details.\n",
      "  data = yaml.load(text) or {}\n",
      "/home/cosmobots/anaconda3/lib/python3.7/site-packages/NRT_Doorstop-1.5.1-py3.7.egg/doorstop/common.py:126: YAMLLoadWarning: calling yaml.load() without Loader=... is deprecated, as the default Loader is unsafe. Please read https://msg.pyyaml.org/load for full details.\n",
      "  data = yaml.load(text) or {}\n"
     ]
    },
    {
     "name": "stdout",
     "output_type": "stream",
     "text": [
      "parent:  SRC-0003\n",
      "Llamo al padre\n",
      "prefix:  SRC-\n",
      "----> SRC-0009\n",
      "reqname:  SRC-0010\n",
      "parent:  SRC-0009\n",
      "Llamo al padre\n",
      "Llamo al padre\n",
      "prefix:  SRC-\n",
      "----> SRC-0010\n"
     ]
    },
    {
     "name": "stderr",
     "output_type": "stream",
     "text": [
      "/home/cosmobots/anaconda3/lib/python3.7/site-packages/NRT_Doorstop-1.5.1-py3.7.egg/doorstop/common.py:126: YAMLLoadWarning: calling yaml.load() without Loader=... is deprecated, as the default Loader is unsafe. Please read https://msg.pyyaml.org/load for full details.\n",
      "  data = yaml.load(text) or {}\n"
     ]
    }
   ],
   "source": [
    "def find_prefix(this_issue):\n",
    "    if this_issue.tracker.id== req_doc_tracker_id:\n",
    "        return(this_issue.subject+\"-\")\n",
    "\n",
    "    # not solved yet\n",
    "    parent_issue = redmine.issue.get(this_issue.parent.id)\n",
    "    print(\"Llamo al padre\")\n",
    "    return find_prefix(parent_issue)\n",
    "\n",
    "from doorstop.core.item import Item\n",
    "\n",
    "for my_issue in my_project_issues:\n",
    "    reqname = my_issue.subject\n",
    "    print(\"reqname: \",reqname)\n",
    "    parent_issue = redmine.issue.get(my_issue.parent.id)\n",
    "    print(\"parent: \",parent_issue.subject)\n",
    "    prefix = find_prefix(parent_issue)\n",
    "    if (prefix is not None):\n",
    "        print(\"prefix: \",prefix)        \n",
    "        #newitem = tree.add_item(prefix)\n",
    "        #newitem.text = my_issue.description\n",
    "\n",
    "        document = tree.find_document(prefix)\n",
    "        newitem = Item.new(tree, document,\n",
    "                document.path, document.root, my_issue.subject,\n",
    "                auto=False)\n",
    "        newitem.set('RqTitle', my_issue.custom_fields.get(req_title_cf_id).value)\n",
    "        newitem.set('RqLevel', my_issue.custom_fields.get(req_level_cf_id).value)\n",
    "        newitem.set('RqType', my_issue.custom_fields.get(req_type_cf_id).value)\n",
    "        newitem.set('RqSrc', my_issue.custom_fields.get(req_sources_cf_id).value)\n",
    "        newitem.set('ReqRationale', my_issue.custom_fields.get(req_rationale_cf_id).value)\n",
    "        newitem.set('text', my_issue.description)\n",
    "        newitem.save()\n",
    "        print(\"---->\",newitem)\n"
   ]
  },
  {
   "cell_type": "code",
   "execution_count": 14,
   "metadata": {},
   "outputs": [
    {
     "name": "stdout",
     "output_type": "stream",
     "text": [
      " thisitem:  SR-0001\n",
      " thisitem:  SR-0002\n"
     ]
    },
    {
     "name": "stderr",
     "output_type": "stream",
     "text": [
      "/home/cosmobots/anaconda3/lib/python3.7/site-packages/NRT_Doorstop-1.5.1-py3.7.egg/doorstop/common.py:126: YAMLLoadWarning: calling yaml.load() without Loader=... is deprecated, as the default Loader is unsafe. Please read https://msg.pyyaml.org/load for full details.\n",
      "  data = yaml.load(text) or {}\n"
     ]
    },
    {
     "name": "stdout",
     "output_type": "stream",
     "text": [
      " thisitem:  SR-0003\n",
      " thisitem:  SR-0004\n",
      " thisitem:  SR-0005\n",
      " thisitem:  SR-0006\n",
      " thisitem:  SR-0007\n",
      "Relacionado:  1  de  SR-0005  a  SR-0007\n",
      "Relacionado:  2  de  SR-0006  a  SR-0007\n",
      " thisitem:  SR-0008\n",
      "Relacionado:  3  de  SR-0005  a  SR-0008\n",
      " thisitem:  SR-0009\n",
      " thisitem:  SR-0010\n"
     ]
    },
    {
     "name": "stderr",
     "output_type": "stream",
     "text": [
      "/home/cosmobots/anaconda3/lib/python3.7/site-packages/NRT_Doorstop-1.5.1-py3.7.egg/doorstop/common.py:126: YAMLLoadWarning: calling yaml.load() without Loader=... is deprecated, as the default Loader is unsafe. Please read https://msg.pyyaml.org/load for full details.\n",
      "  data = yaml.load(text) or {}\n",
      "/home/cosmobots/anaconda3/lib/python3.7/site-packages/NRT_Doorstop-1.5.1-py3.7.egg/doorstop/common.py:126: YAMLLoadWarning: calling yaml.load() without Loader=... is deprecated, as the default Loader is unsafe. Please read https://msg.pyyaml.org/load for full details.\n",
      "  data = yaml.load(text) or {}\n",
      "/home/cosmobots/anaconda3/lib/python3.7/site-packages/NRT_Doorstop-1.5.1-py3.7.egg/doorstop/common.py:126: YAMLLoadWarning: calling yaml.load() without Loader=... is deprecated, as the default Loader is unsafe. Please read https://msg.pyyaml.org/load for full details.\n",
      "  data = yaml.load(text) or {}\n"
     ]
    },
    {
     "name": "stdout",
     "output_type": "stream",
     "text": [
      " thisitem:  SRC-0001\n",
      " thisitem:  SRC-0002\n",
      " thisitem:  SRC-0003\n",
      " thisitem:  SRC-0004\n",
      " thisitem:  SRC-0005\n",
      "Relacionado:  4  de  SR-0004  a  SRC-0005\n",
      " thisitem:  SRC-0006\n",
      " thisitem:  SRC-0007\n",
      "Relacionado: "
     ]
    },
    {
     "name": "stderr",
     "output_type": "stream",
     "text": [
      "/home/cosmobots/anaconda3/lib/python3.7/site-packages/NRT_Doorstop-1.5.1-py3.7.egg/doorstop/common.py:126: YAMLLoadWarning: calling yaml.load() without Loader=... is deprecated, as the default Loader is unsafe. Please read https://msg.pyyaml.org/load for full details.\n",
      "  data = yaml.load(text) or {}\n"
     ]
    },
    {
     "name": "stdout",
     "output_type": "stream",
     "text": [
      " 5  de  SRC-0005  a  SRC-0007\n",
      "Relacionado:  6  de  SRC-0006  a  SRC-0007\n",
      " thisitem:  SRC-0008\n"
     ]
    },
    {
     "name": "stderr",
     "output_type": "stream",
     "text": [
      "/home/cosmobots/anaconda3/lib/python3.7/site-packages/NRT_Doorstop-1.5.1-py3.7.egg/doorstop/common.py:126: YAMLLoadWarning: calling yaml.load() without Loader=... is deprecated, as the default Loader is unsafe. Please read https://msg.pyyaml.org/load for full details.\n",
      "  data = yaml.load(text) or {}\n",
      "/home/cosmobots/anaconda3/lib/python3.7/site-packages/NRT_Doorstop-1.5.1-py3.7.egg/doorstop/common.py:126: YAMLLoadWarning: calling yaml.load() without Loader=... is deprecated, as the default Loader is unsafe. Please read https://msg.pyyaml.org/load for full details.\n",
      "  data = yaml.load(text) or {}\n"
     ]
    },
    {
     "name": "stdout",
     "output_type": "stream",
     "text": [
      "Relacionado:  7  de  SRC-0005  a  SRC-0008\n",
      " thisitem:  SRC-0009\n",
      " thisitem:  SRC-0010\n",
      "Acabamos\n"
     ]
    },
    {
     "name": "stderr",
     "output_type": "stream",
     "text": [
      "/home/cosmobots/anaconda3/lib/python3.7/site-packages/NRT_Doorstop-1.5.1-py3.7.egg/doorstop/common.py:126: YAMLLoadWarning: calling yaml.load() without Loader=... is deprecated, as the default Loader is unsafe. Please read https://msg.pyyaml.org/load for full details.\n",
      "  data = yaml.load(text) or {}\n"
     ]
    }
   ],
   "source": [
    "# Creamos los links entre requisitos del Redmine\n",
    "for i in my_project_issues:\n",
    "    thisitem = tree.find_item(i.subject)\n",
    "    if (thisitem is not None):\n",
    "        print(\" thisitem: \",thisitem)\n",
    "\n",
    "    # Busco las relaciones en las que es destinatario\n",
    "    my_issue_relations = redmine.issue_relation.filter(issue_id=i.id)\n",
    "    my_filtered_issue_relations = list(filter(lambda x: x.issue_id != i.id, my_issue_relations))\n",
    "\n",
    "    # Recorro las relaciones creando los links\n",
    "    for rel in my_filtered_issue_relations:\n",
    "        # Obtenemos la incidencia y el item doorstop del objeto que es origen de la relación de Redmine,\n",
    "        # que significa que es destinatario de la relación de doorstop, ya que es el elemento que está\n",
    "        # condicionando al actual (el actual depende de él)\n",
    "        relissue = redmine.issue.get(rel.issue_id)\n",
    "        print(\"Relacionado: \",rel,\" de \",relissue.subject,\" a \",i.subject)\n",
    "        relitem = tree.find_item(relissue.subject)\n",
    "        # Creamos un link donde expresamos que thisitem depende de relitem\n",
    "        thisitem.link(relitem)\n",
    "\n",
    "    \n",
    "print(\"Acabamos\")\n"
   ]
  },
  {
   "cell_type": "code",
   "execution_count": null,
   "metadata": {},
   "outputs": [],
   "source": []
  },
  {
   "cell_type": "code",
   "execution_count": null,
   "metadata": {},
   "outputs": [],
   "source": []
  }
 ],
 "metadata": {
  "kernelspec": {
   "display_name": "Python 3",
   "language": "python",
   "name": "python3"
  },
  "language_info": {
   "codemirror_mode": {
    "name": "ipython",
    "version": 3
   },
   "file_extension": ".py",
   "mimetype": "text/x-python",
   "name": "python",
   "nbconvert_exporter": "python",
   "pygments_lexer": "ipython3",
   "version": "3.7.3"
  }
 },
 "nbformat": 4,
 "nbformat_minor": 2
}
